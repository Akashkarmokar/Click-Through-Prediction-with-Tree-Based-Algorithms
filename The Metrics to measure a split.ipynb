{
 "cells": [
  {
   "cell_type": "code",
   "execution_count": 1,
   "metadata": {},
   "outputs": [],
   "source": [
    "#importing library\n",
    "import matplotlib.pyplot as plt\n",
    "import numpy as np"
   ]
  },
  {
   "cell_type": "markdown",
   "metadata": {},
   "source": [
    "# Gini Impurity"
   ]
  },
  {
   "cell_type": "code",
   "execution_count": 41,
   "metadata": {},
   "outputs": [
    {
     "data": {
      "image/png": "[encoded data removed]",
      "text/plain": [
       "<Figure size 432x288 with 1 Axes>"
      ]
     },
     "metadata": {
      "needs_background": "light"
     },
     "output_type": "display_data"
    }
   ],
   "source": [
    "pos_fraction = np.linspace(0.00,1.00,1000)\n",
    "gini = 1 - pos_fraction**2 - (1-pos_fraction)**2\n",
    "plt.plot(pos_fraction,gini)\n",
    "plt.ylim(0,1)\n",
    "plt.xlabel('Postive Fraction')\n",
    "plt.ylabel('Gini Impurity')\n",
    "plt.show()"
   ]
  },
  {
   "cell_type": "code",
   "execution_count": 35,
   "metadata": {},
   "outputs": [],
   "source": [
    "def gini_impurity(labels):\n",
    "    #when the set is empty,it is also pure \n",
    "    if not labels:\n",
    "        return 0;\n",
    "    counts = np.unique(labels,return_counts=True)[1]\n",
    "#     print(counts)\n",
    "    fractions = counts/float(len(labels))\n",
    "    return 1 - np.sum(fractions**2)"
   ]
  },
  {
   "cell_type": "code",
   "execution_count": 37,
   "metadata": {},
   "outputs": [
    {
     "name": "stdout",
     "output_type": "stream",
     "text": [
      "0.4800\n"
     ]
    }
   ],
   "source": [
    "print('{0:.4f}'.format(gini_impurity([1,1,0,1,0])))"
   ]
  },
  {
   "cell_type": "code",
   "execution_count": 36,
   "metadata": {},
   "outputs": [
    {
     "name": "stdout",
     "output_type": "stream",
     "text": [
      "0.5000\n"
     ]
    }
   ],
   "source": [
    "print('{0:.4f}'.format(gini_impurity([1,1,0,1,0,0])))"
   ]
  },
  {
   "cell_type": "markdown",
   "metadata": {},
   "source": [
    "# Entropy"
   ]
  },
  {
   "cell_type": "markdown",
   "metadata": {},
   "source": [
    "We can visualize how entropy changes under different values of a positive class's fraction in binary cases via the following code:"
   ]
  },
  {
   "cell_type": "code",
   "execution_count": 42,
   "metadata": {},
   "outputs": [
    {
     "name": "stderr",
     "output_type": "stream",
     "text": [
      "<ipython-input-42-71ad8eda2227>:2: RuntimeWarning: divide by zero encountered in log2\n",
      "  ent = - (pos_fraction * np.log2(pos_fraction)+(1-pos_fraction)*np.log2(1-pos_fraction))\n",
      "<ipython-input-42-71ad8eda2227>:2: RuntimeWarning: invalid value encountered in multiply\n",
      "  ent = - (pos_fraction * np.log2(pos_fraction)+(1-pos_fraction)*np.log2(1-pos_fraction))\n"
     ]
    },
    {
     "data": {
      "image/png": "[encoded data removed]",
      "text/plain": [
       "<Figure size 432x288 with 1 Axes>"
      ]
     },
     "metadata": {
      "needs_background": "light"
     },
     "output_type": "display_data"
    }
   ],
   "source": [
    "pos_fraction = np.linspace(0.00,1.00,1000)\n",
    "ent = - (pos_fraction * np.log2(pos_fraction)+(1-pos_fraction)*np.log2(1-pos_fraction))\n",
    "plt.plot(pos_fraction,ent)\n",
    "plt.ylim(0,1)\n",
    "plt.xlabel('Positive Fraction')\n",
    "plt.ylabel('Entropy')\n",
    "plt.show()"
   ]
  },
  {
   "cell_type": "code",
   "execution_count": 61,
   "metadata": {},
   "outputs": [],
   "source": [
    "def entropy(lebels):\n",
    "    if not lebels:\n",
    "        return 0;\n",
    "    counts = np.unique(lebels,return_counts=True)[1]\n",
    "    fractions = counts/float(len(lebels))\n",
    "    return -np.sum(fractions*np.log2(fractions))"
   ]
  },
  {
   "cell_type": "code",
   "execution_count": 62,
   "metadata": {},
   "outputs": [
    {
     "name": "stdout",
     "output_type": "stream",
     "text": [
      "-0.0000\n"
     ]
    }
   ],
   "source": [
    "print('{0:.4f}'.format(entropy([1,1,1,1,1])))"
   ]
  },
  {
   "cell_type": "code",
   "execution_count": 63,
   "metadata": {},
   "outputs": [],
   "source": [
    "criterion_function = {'gini':gini_impurity,'entropy':entropy}"
   ]
  },
  {
   "cell_type": "code",
   "execution_count": 75,
   "metadata": {},
   "outputs": [],
   "source": [
    "def weighted_impurity(groups,criterion='gini'):\n",
    "    \"\"\"Calculate weighted impurity of children after a split\n",
    "    Args:\n",
    "    groups(list of children,and a cild consists a list of class labels)\n",
    "    criterion(metrtc to measure the quality of a split,'gini' for Gini impurityor 'entropy' for Infromation Gain )\n",
    "    \"\"\"\n",
    "    total = sum(len(group) for group in groups)\n",
    "    weightedSum = 0.00\n",
    "    for group in groups:\n",
    "        weightedSum+=len(group)/float(total) * criterion_function[criterion](group)\n",
    "        \n",
    "    return weightedSum"
   ]
  },
  {
   "cell_type": "code",
   "execution_count": 76,
   "metadata": {},
   "outputs": [],
   "source": [
    "children_1 = [[1,0,1],[0,1]]\n",
    "children_2 = [[1,1],[0,0,1]]"
   ]
  },
  {
   "cell_type": "code",
   "execution_count": 77,
   "metadata": {},
   "outputs": [
    {
     "name": "stdout",
     "output_type": "stream",
     "text": [
      "0.9510\n"
     ]
    }
   ],
   "source": [
    "print('{0:.4f}'.format(weighted_impurity(children_1,'entropy')))"
   ]
  },
  {
   "cell_type": "code",
   "execution_count": null,
   "metadata": {},
   "outputs": [],
   "source": []
  }
 ],
 "metadata": {
  "kernelspec": {
   "display_name": "Python 3",
   "language": "python",
   "name": "python3"
  },
  "language_info": {
   "codemirror_mode": {
    "name": "ipython",
    "version": 3
   },
   "file_extension": ".py",
   "mimetype": "text/x-python",
   "name": "python",
   "nbconvert_exporter": "python",
   "pygments_lexer": "ipython3",
   "version": "3.8.5"
  }
 },
 "nbformat": 4,
 "nbformat_minor": 4
}
