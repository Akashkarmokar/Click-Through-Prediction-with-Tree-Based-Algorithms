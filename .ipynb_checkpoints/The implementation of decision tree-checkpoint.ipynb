{
 "cells": [
  {
   "cell_type": "code",
   "execution_count": null,
   "metadata": {},
   "outputs": [],
   "source": [
    "#importin library\n",
    "import matplotlib.pyplot as plt\n",
    "import numpy as np"
   ]
  },
  {
   "cell_type": "code",
   "execution_count": 2,
   "metadata": {},
   "outputs": [],
   "source": [
    "# Gini Impurity function to calculate gini impurity of a label\n",
    "def gini_impurity(labels):\n",
    "    #when the set is empty, it is also pure\n",
    "    if labels.size == 0:\n",
    "        return 0\n",
    "    #count the occurrences of each label\n",
    "    counts = np.unique(labels,return_counts=True)[1]\n",
    "    fractions = counts/float(len(labels))\n",
    "    return 1-np.sum(fractions**2)"
   ]
  },
  {
   "cell_type": "code",
   "execution_count": 3,
   "metadata": {},
   "outputs": [],
   "source": [
    "# Entropy function to calculate Entropy of a label\n",
    "def entropy(labels):\n",
    "    #when the set is empty, it is also pure\n",
    "    if labels.size == 0:\n",
    "        return 0\n",
    "    counts = np.unique(labels,return_counts=True)[1]\n",
    "    fractions = counts/float(len(labels))\n",
    "    return -np.sum(fractions*np.log2(fractions))"
   ]
  },
  {
   "cell_type": "code",
   "execution_count": null,
   "metadata": {},
   "outputs": [],
   "source": [
    "# Weighted impurity function\n",
    "criterion_function = {'gini':gini_impurity,'entropy':entropy}\n",
    "def weighted_impurity(groups,criterion='gini'):\n",
    "    \"\"\"Calculate weighted impurity of children after a split\n",
    "    Args:\n",
    "    groups(list of children,and a cild consists a list of class labels)\n",
    "    criterion(metrtc to measure the quality of a split,'gini' for Gini impurityor 'entropy' for Infromation Gain )\n",
    "    \"\"\"\n",
    "    total = sum(len(group) for group in groups)\n",
    "    weightedSum = 0.00\n",
    "    for group in groups:\n",
    "#         print(criterion_function[criterion](group))\n",
    "#         print(len(group)/float(total) * criterion_function[criterion](group))\n",
    "        weightedSum+=len(group)/float(total) * criterion_function[criterion](group)\n",
    "        \n",
    "        \n",
    "    return weightedSum"
   ]
  },
  {
   "cell_type": "code",
   "execution_count": 6,
   "metadata": {},
   "outputs": [],
   "source": [
    "# A utility function to split a node into left and right child based on a feature and a value:\n",
    "def split_node(X,y,index,value):\n",
    "    \"\"\"\n",
    "    Split data set X,y based on a feature and a value\n",
    "    Args:\n",
    "        X,y (numpy.ndarray, data set)\n",
    "        index (int, index of the feature used for spliting)\n",
    "        value (value of the feature used for spliting)\n",
    "    Returns:\n",
    "        list, list: left and right child, a child is in the format of [X,y]\n",
    "    \"\"\"\n",
    "    \n",
    "    x_index = X[:,index]\n",
    "    # if this feature is numerical\n",
    "    if X[0,index].dtype.kind in ['i','f']:\n",
    "        mask = x_index >= value\n",
    "    # if this feature is categorical  \n",
    "    else:\n",
    "        mask = x_index == value\n",
    "    # split into left and right child\n",
    "    left = [X[~mask,:],y[~mask]]\n",
    "    right = [X[mask,:],y[mask]]\n",
    "    \n",
    "    return left, right"
   ]
  },
  {
   "cell_type": "code",
   "execution_count": 7,
   "metadata": {},
   "outputs": [],
   "source": [
    "# Now we define the greedy search function trying out all possible splits and returning the best one given a selection criterion, along with resulting children:\n",
    "\n",
    "def get_best_split(X,y,criterion):\n",
    "    \"\"\"\n",
    "    Obtain the best spliting point and resulting children for the data  Set X, y\n",
    "    Args:\n",
    "        X, y ( numpy.ndarry, data set)\n",
    "        criterion (gini or entropy)\n",
    "    \n",
    "    Returns:\n",
    "        dict {'index': index of the feature, 'value': feature value,'children': left and right children}\n",
    "    \n",
    "    \"\"\"\n",
    "    \n",
    "    best_index,best_value,best_score,children = None, None, 1, None\n",
    "    \n",
    "    \n",
    "    for index in range(len(X[0])): # Here we iterate all over the column of our dataset\n",
    "        for value in np.sort(np.unique(X[:, index])): # here we iterate all over row at this index\n",
    "            groups = split_node(X,y,index,value)\n",
    "            impurity = weighted_impurity([groups[0][1],groups[1][1]],criterion)\n",
    "            if impurity<best_score :\n",
    "                best_index , best_value, best_score, children = index, value, impurity, groups\n",
    "            \n",
    "    \n",
    "    return {'index':best_index, 'value':best_value, 'children': children}\n",
    "    \n",
    "        "
   ]
  },
  {
   "cell_type": "code",
   "execution_count": null,
   "metadata": {},
   "outputs": [],
   "source": [
    "def get_leaf(labels):\n",
    "    # Obtain the leaf as the majority of the labels\n",
    "    return np.bincount(labels).argmax()"
   ]
  },
  {
   "cell_type": "raw",
   "metadata": {},
   "source": [
    "Finally the recursive function that links all these together by:\n",
    "    1. Assigning a leaf node if one of two children node is empty\n",
    "    2. Assigning a leaf node if the current branch depth exceeds the maximal depth allowed\n",
    "    3. Assigning a leaf node if it does not contain sufficient samples required for a further split\n",
    "    4. otherwise, proceeding with further splits with the optimal spliting point"
   ]
  },
  {
   "cell_type": "code",
   "execution_count": 8,
   "metadata": {},
   "outputs": [],
   "source": [
    "def split(node, max_depth, min_size, depth, criterion):\n",
    "    \"\"\" Split children of a node to construct new nodes or assign them terminals\n",
    "    Args:\n",
    "        node (dict, with children info)\n",
    "        max_depth (int, maximal depth of the tree)\n",
    "        min_size (int, minimal samples required to further split a child)\n",
    "        depth (int, current depth of the node)\n",
    "        criterion (gini or entropy)\n",
    "    \"\"\"\n",
    "    left, right = node['children']\n",
    "    del (node['children'])\n",
    "    \n",
    "    if left[1].size == 0 :\n",
    "        node['right'] = get_leaf(right[1])\n",
    "        return\n",
    "    if right[1].size == 0 :\n",
    "        node['left'] = get_leaf(left[1])\n",
    "        return\n",
    "    \n",
    "    # Check if the current depth exceeds the maximal depth\n",
    "    if depth >= max_depth:\n",
    "        node['left'], node['right']  = get_leaf(left[1]), get_leaf(right[1])\n",
    "        return\n",
    "    \n",
    "    # Check if the left child has enough samples\n",
    "    if left[1].size <= min_size:\n",
    "        node['left'] = get_leaf(left[1])\n",
    "    else:\n",
    "        # It has enough samples, we further split it\n",
    "        result = get_best_split(left[0],left[1],criterion)\n",
    "        result_left, result_right = result['children']\n",
    "        if result_left[1].size == 0:\n",
    "            node['left']=get_leaf(result_right[1])\n",
    "        elif result_right[1].size == 0:\n",
    "            node['right'] = get_leaf(result_left[1])\n",
    "        else:\n",
    "            node['left'] = result\n",
    "            split(node['left'],max_depth,min_size,depth+1,criterion)\n",
    "    \n",
    "    # Check if the right child has enough samples\n",
    "    if right[1].size <= min.size:\n",
    "        node['right'] = get_leaf(right[1])\n",
    "    else:\n",
    "        # It has enough samples, we further split it\n",
    "        result = get_best_split(right[0], right[1],criterion)\n",
    "        result_left, result_right = result['children']\n",
    "        if result_left[1].size == 0:\n",
    "            node['right'] = get_leaf(result_right[1])\n",
    "        elif result_right[1].size == 0:\n",
    "            node['left'] = get_leaf(result_left[1])\n",
    "        else:\n",
    "            node['right'] = result\n",
    "            split(node['right'],max_depth,min_size,depth+1,criterion)\n",
    "    "
   ]
  },
  {
   "cell_type": "code",
   "execution_count": 9,
   "metadata": {},
   "outputs": [],
   "source": [
    "# Entry point of the tree construction:\n",
    "def train_tree(X_tain,y_train,max_depth,min_size,criterion='gini'):\n",
    "    \"\"\" Construction of a tree starts here\n",
    "    Args:\n",
    "        X_train, y_train (list, list ,training data)\n",
    "        max_depth (int, maximal depth of the tree)\n",
    "        min_size (int, minimum samples required to further split a child)\n",
    "        criterion (gini or entropy)\n",
    "    \"\"\"\n",
    "    X = np.array(X_train)\n",
    "    y = np.array(y_train)\n",
    "    root = get_best_split(X,y,criterion)\n",
    "    split(root,max_depth,min_size,1,criterion)\n",
    "    \n",
    "    return root;"
   ]
  },
  {
   "cell_type": "code",
   "execution_count": null,
   "metadata": {},
   "outputs": [],
   "source": [
    "X_train = [\n",
    "    ['teach','professional'],\n",
    "    ['teach','professional'],\n",
    "    ['teach','professional'],\n",
    "    ['teach','professional'],\n",
    "    ['teach','professional'],\n",
    "    ['teach','professional'],\n",
    "    ['teach','professional'],\n",
    "]"
   ]
  }
 ],
 "metadata": {
  "kernelspec": {
   "display_name": "Python 3",
   "language": "python",
   "name": "python3"
  },
  "language_info": {
   "codemirror_mode": {
    "name": "ipython",
    "version": 3
   },
   "file_extension": ".py",
   "mimetype": "text/x-python",
   "name": "python",
   "nbconvert_exporter": "python",
   "pygments_lexer": "ipython3",
   "version": "3.8.5"
  }
 },
 "nbformat": 4,
 "nbformat_minor": 4
}
